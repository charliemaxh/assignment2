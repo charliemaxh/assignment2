{
  "nbformat": 4,
  "nbformat_minor": 0,
  "metadata": {
    "colab": {
      "private_outputs": true,
      "provenance": [],
      "include_colab_link": true
    },
    "kernelspec": {
      "name": "python3",
      "display_name": "Python 3"
    },
    "language_info": {
      "name": "python"
    }
  },
  "cells": [
    {
      "cell_type": "markdown",
      "metadata": {
        "id": "view-in-github",
        "colab_type": "text"
      },
      "source": [
        "<a href=\"https://colab.research.google.com/github/charliemaxh/assignment2/blob/main/stock_market_simulation_starter.ipynb\" target=\"_parent\"><img src=\"https://colab.research.google.com/assets/colab-badge.svg\" alt=\"Open In Colab\"/></a>"
      ]
    },
    {
      "cell_type": "markdown",
      "source": [
        "\n",
        ">*The outline below is provided below is designed to guide you effectively through the simulation, analysis, and evaluation processes. Feel free to adapt this suggested structure by adding or removing sections to best communicate your findings.*\n",
        "\n",
        "## Title, Author, and Introduction\n",
        "\n",
        "This notebook serves as an interactive report to simulate and analyze the stock market. It aims to provide a deeper understanding of market dynamics, the impact of events, and potential trading strategies based on price and trends.\n",
        "\n",
        "## Simulation Overview\n",
        "\n",
        "In this section restate the purpose and what this notebook demonstrates.  Include a detailed explanation of each parameter used in the simulation with practical examples.\n",
        "\n",
        "\n",
        "## Baseline Simulation\n",
        "\n",
        "In this section we want to understand and visualise the popularity without the marketing day event event.\n",
        "\n",
        "First we need to install necessary packages."
      ],
      "metadata": {
        "id": "2ZACzFrFPglO"
      }
    },
    {
      "cell_type": "code",
      "execution_count": null,
      "metadata": {
        "id": "37NCcMfpNdQk"
      },
      "outputs": [],
      "source": [
        "!pip install git+https://github.com/teaching-repositories/simulacra.git -q"
      ]
    },
    {
      "cell_type": "markdown",
      "source": [
        "We need to\n",
        "  - **Import the necessary libraries**: Code cells to import libraries (like `matplotlib` for plotting and any other libraries needed).\n",
        "  - **Run the Simulation**: Code to run the simulation with zero marketing  impact.\n",
        "  - **Visuale the Results**: Plotting demand over time to establish a baseline."
      ],
      "metadata": {
        "id": "-5WD251nOeSu"
      }
    },
    {
      "cell_type": "code",
      "source": [
        "from simulacra.stock_market_simulation import StockMarketSimulation\n",
        "import matplotlib.pyplot as plt\n",
        "\n",
        "# Write a helper function\n",
        "def plot_prices(prices, event_day=None):\n",
        "    \"\"\"\n",
        "    Plots the stock prices from a simulation with an optional vertical line marking a major market event.\n",
        "\n",
        "    Parameters:\n",
        "        prices (List[float]): A list of stock prices to be plotted.\n",
        "        event_day (Optional[int]): The day on which the major market event occurs (defaults to None).\n",
        "\n",
        "    Returns:\n",
        "        None\n",
        "    \"\"\"\n",
        "    plt.figure(figsize=(10, 6))\n",
        "    plt.plot(prices, label='Stock Price')\n",
        "    if event_day is not None:\n",
        "        plt.axvline(x=event_day, color='red', linestyle='--', label='Major Market Event')\n",
        "    plt.xlabel('Days')\n",
        "    plt.ylabel('Price ($)')\n",
        "    plt.title('Stock Market Simulation')\n",
        "    plt.legend()\n",
        "    plt.show()\n",
        "\n",
        "\n",
        "\n",
        "\n",
        "# Create the simulation\n",
        "sim = StockMarketSimulation(start_price=100, days=365, volatility=0.03,\n",
        "                                drift=-0.001, event_day=100, event_impact=-0.2)\n",
        "\n",
        "# Run the simulation\n",
        "prices = sim.run_simulation()\n",
        "\n",
        "# Visualise the results\n",
        "plot_prices(prices, sim.event_day)\n"
      ],
      "metadata": {
        "id": "f1g6Dwp9N4Im"
      },
      "execution_count": null,
      "outputs": []
    },
    {
      "cell_type": "markdown",
      "source": [
        "## Investigate How Volatility Affects Stock Price Stability\n",
        "\n",
        "In thisa section begin by analysing how different levels of volatility impact the stability of stock prices and the potential for investment gains or losses. Discuss the observed trends and implications.\n",
        "\n"
      ],
      "metadata": {
        "id": "Ec9uL2_UO6nP"
      }
    },
    {
      "cell_type": "markdown",
      "source": [],
      "metadata": {
        "id": "uamXElegg35i"
      }
    },
    {
      "cell_type": "code",
      "source": [
        "# Code to investigate volatility goes here\n",
        "from simulacra.stock_market_simulation import StockMarketSimulation\n",
        "import matplotlib.pyplot as plt\n",
        "import pandas as pd\n",
        "\n",
        "# function to plot multiple simulations onto 1 graph\n",
        "def plot_prices(prices,labels,event_day=None):\n",
        "  #plot figure size\n",
        "    plt.figure(figsize=(10, 6))\n",
        "  #uses zip to combine price_series and labels lists\n",
        "    for prices, label in zip(price_series, labels):\n",
        "      plt.plot(prices, label=label)\n",
        "  # x axis label\n",
        "    plt.xlabel('Days')\n",
        "  # y axis label\n",
        "    plt.ylabel('Price ($)')\n",
        "  # graph title\n",
        "    plt.title(f'Stock Market Simulation - Volatility ')\n",
        "    plt.legend()\n",
        "    plt.show()\n",
        "\n",
        "#define list of volatilites to simulate through\n",
        "volatilities = [0.01, 0.03, 0.05]\n",
        "#lists to store each loop iteration results so it can be plotted\n",
        "price_series = []\n",
        "labels = []\n",
        "volatility_analysis = []\n",
        "\n",
        "\n",
        "\n",
        "#loop through the 3 defined volatility values and simulate them + generate graph\n",
        "for volatility in volatilities:\n",
        "# Create the simulation and pass through volatility values in the list\n",
        "  sim = StockMarketSimulation(start_price=100, days=365, volatility=volatility,\n",
        "                                drift=-0.001, event_day=100, event_impact=-0, random_seed=1)\n",
        "  # Run the simulation\n",
        "  prices = sim.run_simulation()\n",
        "\n",
        "  price_series.append(prices)\n",
        "  labels.append(f'Volatility = {volatility}')\n",
        "\n",
        "#basic equations to pull information to insert into pandas table for analysis\n",
        "  max_price = max(prices)\n",
        "  least_price = min(prices)\n",
        "  startprice = prices[0]\n",
        "  endprice = prices[-1]\n",
        "  std_dev = pd.Series(prices).std()\n",
        "  loss_or_profit = endprice - startprice\n",
        "\n",
        "#build table of values for analysis\n",
        "  volatility_analysis.append({\n",
        "      'Volatilty': volatility,\n",
        "      'Start Price': startprice,\n",
        "      'Max Price': max_price,\n",
        "      'Min Price': least_price,\n",
        "      'End Price': endprice,\n",
        "      'Standard Deviation': std_dev,\n",
        "      'Total Gain/Loss': loss_or_profit\n",
        "  })\n",
        "\n",
        "\n",
        "# Visualise the results\n",
        "plot_prices(price_series, labels, event_day=100)\n",
        "volatility_analysis = pd.DataFrame(volatility_analysis)\n",
        "\n",
        "print(volatility_analysis)"
      ],
      "metadata": {
        "id": "3wdp7N4-O9FJ"
      },
      "execution_count": null,
      "outputs": []
    },
    {
      "cell_type": "markdown",
      "source": [
        "VOLATILITY ANALYSIS\n",
        "\n",
        "3 different volatility values were simulated: 0.01,0.03 and 0.05.\n",
        "\n",
        "\n"
      ],
      "metadata": {
        "id": "7p3yG-Deukb2"
      }
    },
    {
      "cell_type": "markdown",
      "source": [
        "## Simulate a Major Market Event and Analyse Its Impact\n",
        "\n",
        "In this section, set up scenarios where a significant market event affects stock prices on a specific day. Adjust the impact of these events to observe varying outcomes. Discuss the observed trends and implications."
      ],
      "metadata": {
        "id": "ouYX5NXFPRVc"
      }
    },
    {
      "cell_type": "code",
      "source": [
        "# Code to assess the impact of a market event"
      ],
      "metadata": {
        "id": "6SXNet1SPbeT"
      },
      "execution_count": null,
      "outputs": []
    },
    {
      "cell_type": "markdown",
      "source": [
        "## (Optional) Develop and Test Trading Strategies\n",
        "\n",
        "In this section, explore basic trading strategies such as \"buy and hold\", \"moving average crossover\", or \"momentum-based\" strategies. Implement these strategies in your simulation to test their effectiveness over time. Discuss the observed trends and implications."
      ],
      "metadata": {
        "id": "UMbo3KNDPcBe"
      }
    },
    {
      "cell_type": "markdown",
      "source": [
        "BUY AND HOLD"
      ],
      "metadata": {
        "id": "QLXUqMPck_zi"
      }
    },
    {
      "cell_type": "code",
      "source": [
        "# importing simulator and plot tools\n",
        "from simulacra.stock_market_simulation import StockMarketSimulation\n",
        "import matplotlib.pyplot as plt\n",
        "\n",
        "plot_prices(prices, event_day=None)\n",
        "\n",
        "#function to determine returns based on buy and sell price\n",
        "def buy_and_hold(prices):\n",
        "#takes the first value (day 1) as buy price\n",
        "    buyprice = prices[0]\n",
        "#takes the last value using negative indexing as sell price\n",
        "    sellprice = prices[-1]\n",
        "    returns = sellprice - buyprice\n",
        "    return returns\n",
        "\n",
        "sim = StockMarketSimulation(start_price=100, days=365, volatility=0.03,\n",
        "                                drift=-0.001, event_day=100, event_impact=-0.2)\n",
        "print('Profit/Loss' & returns)\n"
      ],
      "metadata": {
        "id": "WS5HweX2PoNi"
      },
      "execution_count": null,
      "outputs": []
    },
    {
      "cell_type": "markdown",
      "source": [
        "## Conclusions\n",
        "Summarise the insights gained from the simulations, implications for businesses, and potential strategies for managing pricing price flucations in volatile markets.\n",
        "\n",
        "## Challenges and Further Research\n",
        "Discuss any limitations encountered during the simulations and suggest areas for further exploration or improvement in future studies.\n",
        "\n",
        "## References and Additional Resources\n",
        "Any sources used for data or concepts."
      ],
      "metadata": {
        "id": "NBJcxhg1P4ui"
      }
    }
  ]
}