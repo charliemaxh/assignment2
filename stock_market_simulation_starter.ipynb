{
  "nbformat": 4,
  "nbformat_minor": 0,
  "metadata": {
    "colab": {
      "private_outputs": true,
      "provenance": [],
      "include_colab_link": true
    },
    "kernelspec": {
      "name": "python3",
      "display_name": "Python 3"
    },
    "language_info": {
      "name": "python"
    }
  },
  "cells": [
    {
      "cell_type": "markdown",
      "metadata": {
        "id": "view-in-github",
        "colab_type": "text"
      },
      "source": [
        "<a href=\"https://colab.research.google.com/github/charliemaxh/assignment2/blob/main/stock_market_simulation_starter.ipynb\" target=\"_parent\"><img src=\"https://colab.research.google.com/assets/colab-badge.svg\" alt=\"Open In Colab\"/></a>"
      ]
    },
    {
      "cell_type": "markdown",
      "source": [
        "\n",
        ">*The outline below is provided below is designed to guide you effectively through the simulation, analysis, and evaluation processes. Feel free to adapt this suggested structure by adding or removing sections to best communicate your findings.*\n",
        "\n",
        "## Stock Market Simulation Analysis - Charlie Holmes 20560843\n",
        "\n",
        "This notebook serves as an interactive report to simulate and analyze the stock market. It aims to provide a deeper understanding of market dynamics, the impact of events, and potential trading strategies based on price and trends.\n",
        "\n",
        "## Simulation Overview\n",
        "\n",
        "In this section restate the purpose and what this notebook demonstrates.  Include a detailed explanation of each parameter used in the simulation with practical examples.\n",
        "\n",
        "\n",
        "## Baseline Simulation\n",
        "\n",
        "In this section we want to understand and visualise the popularity without the marketing day event event.\n",
        "\n",
        "First we need to install necessary packages."
      ],
      "metadata": {
        "id": "2ZACzFrFPglO"
      }
    },
    {
      "cell_type": "code",
      "execution_count": null,
      "metadata": {
        "id": "37NCcMfpNdQk"
      },
      "outputs": [],
      "source": [
        "!pip install git+https://github.com/teaching-repositories/simulacra.git -q"
      ]
    },
    {
      "cell_type": "markdown",
      "source": [
        "We need to\n",
        "  - **Import the necessary libraries**: Code cells to import libraries (like `matplotlib` for plotting and any other libraries needed).\n",
        "  - **Run the Simulation**: Code to run the simulation with zero marketing  impact.\n",
        "  - **Visuale the Results**: Plotting demand over time to establish a baseline."
      ],
      "metadata": {
        "id": "-5WD251nOeSu"
      }
    },
    {
      "cell_type": "code",
      "source": [
        "from simulacra.stock_market_simulation import StockMarketSimulation\n",
        "import matplotlib.pyplot as plt\n",
        "\n",
        "# Write a helper function\n",
        "def plot_prices(prices, event_day=None):\n",
        "    \"\"\"\n",
        "    Plots the stock prices from a simulation with an optional vertical line marking a major market event.\n",
        "\n",
        "    Parameters:\n",
        "        prices (List[float]): A list of stock prices to be plotted.\n",
        "        event_day (Optional[int]): The day on which the major market event occurs (defaults to None).\n",
        "\n",
        "    Returns:\n",
        "        None\n",
        "    \"\"\"\n",
        "    plt.figure(figsize=(10, 6))\n",
        "    plt.plot(prices, label='Stock Price')\n",
        "    if event_day is not None:\n",
        "        plt.axvline(x=event_day, color='red', linestyle='--', label='Major Market Event')\n",
        "    plt.xlabel('Days')\n",
        "    plt.ylabel('Price ($)')\n",
        "    plt.title('Stock Market Simulation')\n",
        "    plt.legend()\n",
        "    plt.show()\n",
        "\n",
        "\n",
        "\n",
        "\n",
        "# Create the simulation\n",
        "sim = StockMarketSimulation(start_price=100, days=365, volatility=0.03,\n",
        "                                drift=-0.001, event_day=100, event_impact=-0.2)\n",
        "\n",
        "# Run the simulation\n",
        "prices = sim.run_simulation()\n",
        "\n",
        "# Visualise the results\n",
        "plot_prices(prices, sim.event_day)\n"
      ],
      "metadata": {
        "id": "f1g6Dwp9N4Im"
      },
      "execution_count": null,
      "outputs": []
    },
    {
      "cell_type": "markdown",
      "source": [
        "## Investigate How Volatility Affects Stock Price Stability\n",
        "\n",
        "In thisa section begin by analysing how different levels of volatility impact the stability of stock prices and the potential for investment gains or losses. Discuss the observed trends and implications.\n",
        "\n"
      ],
      "metadata": {
        "id": "Ec9uL2_UO6nP"
      }
    },
    {
      "cell_type": "markdown",
      "source": [],
      "metadata": {
        "id": "uamXElegg35i"
      }
    },
    {
      "cell_type": "code",
      "source": [
        "# importing required modules\n",
        "from simulacra.stock_market_simulation import StockMarketSimulation\n",
        "import matplotlib.pyplot as plt\n",
        "import pandas as pd\n",
        "\n",
        "\n",
        "\n",
        "# function to plot multiple simulations onto 1 graph\n",
        "def plot_prices_volatility(prices,labels,event_day=None):\n",
        "  #plot figure size\n",
        "    plt.figure(figsize=(10, 6))\n",
        "  #uses zip to combine price_series and labels lists onto graph - source: Combine 3 volatility graphs (chatgpt) referenced in github\n",
        "    for prices, label in zip(price_series, labels):\n",
        "      plt.plot(prices, label=label)\n",
        "  # x axis label\n",
        "    plt.xlabel('Days')\n",
        "  # y axis label\n",
        "    plt.ylabel('Price ($)')\n",
        "  # graph title\n",
        "    plt.title(f'Stock Market Simulation - Volatility ')\n",
        "    plt.legend()\n",
        "    plt.grid(which=\"major\", color='k', linestyle='-.', linewidth=0.5)\n",
        "    plt.show()\n",
        "\n",
        "#define list of volatilites to simulate through\n",
        "volatilities = [0.01, 0.03, 0.05]\n",
        "#lists to store each loop iteration results so it can be plotted\n",
        "price_series = []\n",
        "labels = []\n",
        "volatility_analysis = []\n",
        "\n",
        "\n",
        "\n",
        "#loop through the 3 defined volatility values and simulate them + generate graph line for each\n",
        "for volatility in volatilities:\n",
        "# Create the simulation and pass through volatility values in the list\n",
        "  sim = StockMarketSimulation(start_price=100, days=365, volatility=volatility,\n",
        "                                drift=-0.001, event_day=100, event_impact=-0, random_seed=1)\n",
        "  # Run the simulation\n",
        "  prices = sim.run_simulation()\n",
        "\n",
        "#placed price series data into list\n",
        "  price_series.append(prices)\n",
        "#appends simulated volatility value into labels list for matplot\n",
        "  labels.append(f'Volatility = {volatility}')\n",
        "\n",
        "#basic equations to pull information to insert into pandas table for analysis\n",
        "  max_price = max(prices)\n",
        "  least_price = min(prices)\n",
        "  startprice = prices[0]\n",
        "  endprice = prices[-1]\n",
        "  std_dev = pd.Series(prices).std()\n",
        "  loss_or_profit = endprice - startprice\n",
        "\n",
        "#build table of values for analysis using pandas, placing into volatility analysis list\n",
        "  volatility_analysis.append({\n",
        "      'Volatilty': volatility,\n",
        "      'Start Price': startprice,\n",
        "      'Max Price': max_price,\n",
        "      'Min Price': least_price,\n",
        "      'End Price': endprice,\n",
        "      'Standard Deviation': std_dev,\n",
        "      'Total Gain/Loss': loss_or_profit\n",
        "  })\n",
        "\n",
        "#format pandas table to not have line breaks\n",
        "pd.set_option('display.max_columns', None)\n",
        "pd.set_option('display.expand_frame_repr', False)\n",
        "\n",
        "\n",
        "# Visualise the results for the matplot and pandas table\n",
        "plot_prices_volatility(price_series, labels, event_day=100)\n",
        "volatility_analysis = pd.DataFrame(volatility_analysis)\n",
        "\n",
        "#print the pandas table\n",
        "print(volatility_analysis)"
      ],
      "metadata": {
        "id": "3wdp7N4-O9FJ"
      },
      "execution_count": null,
      "outputs": []
    },
    {
      "cell_type": "markdown",
      "source": [
        "## VOLATILITY ANALYSIS\n",
        "\n",
        "3 different volatility values were simulated: 0.01,0.03 and 0.05. A line graph was generated displaying the results for each, and a table was also created containing some key figures.\n",
        "\n",
        "Based on the results of the simulation, the simulation with the volatility of 0.01 had the least amount of variance and fluctuation compared to the other two. It generally stayed between $100 and $80 - max price of $102 and lowest of $82. This is further evidenced by the standard deviation being at a low 3.3. It can be inferred from this that a stock with a low volatility such as the one ran through the simulation could be considered a safe investment option, given it is unlikely to drastically drop in price. However, there is also limited upside as a price hike is also unlikely. It eventually ended at a loss of $17 - final price at $82 - further impying that these 'stagnant' stoccks are not nesecarily the best for investment purposes.\n",
        "\n",
        "The stock with volatility of 0.03 had a lot more fluctuations then the 0.01 volatility stock. It reached as high as $151 and as low as $78. The standard deviation increases to 17 further demonstartes the amount of fluctuations. This particular stock demonstartes a solid investment option - demonstarted by the moderate standard deviation as the price hikes / losses are not overly drastic. From day 150 the stock stayed above $100 for the remainder of the simulation - albeit ending on only $105. Stocks with a moderate volatility tend to have a good balance of risk versus reward and present much more upside then the 0.01 stock as well as a manageable amount of downside.\n",
        "\n",
        "The stock with volatility 0.05 has constant drastic price hikes and lows, with a large standard deviation figure of 34.9. We see prices go as high as $215 - doubling from the intial starting price - whilst also going as low as $67. Whilst its clear that stocks with a high volatility can have massive upside, it is also evident that the downside can be drastic as well. Having such major flucuations would mean it would be an unsafe investment - albeit one with the largest upside. Compared to the stock with 0.03 volatility, the balance of risk versus reward is not there, and it presents high risk and high reward.\n",
        "\n",
        "\n"
      ],
      "metadata": {
        "id": "7p3yG-Deukb2"
      }
    },
    {
      "cell_type": "markdown",
      "source": [
        "## Simulate a Major Market Event and Analyse Its Impact\n",
        "\n",
        "In this section, set up scenarios where a significant market event affects stock prices on a specific day. Adjust the impact of these events to observe varying outcomes. Discuss the observed trends and implications."
      ],
      "metadata": {
        "id": "ouYX5NXFPRVc"
      }
    },
    {
      "cell_type": "code",
      "source": [
        "# import required modules\n",
        "from simulacra.stock_market_simulation import StockMarketSimulation\n",
        "import matplotlib.pyplot as plt\n",
        "import pandas as pd\n",
        "\n",
        "\n",
        "\n",
        "\n",
        "# Write a helper function\n",
        "def plot_prices_market(prices, event_day=None):\n",
        "    plt.figure(figsize=(10, 6))\n",
        "#uses zip to combine price_series and labels lists onto graph - source: Combine 3 volatility graphs (chatgpt) referenced in github\n",
        "    for prices, label in zip(price_series, labels):\n",
        "      plt.plot(prices, label=label)\n",
        "    if event_day is not None:\n",
        "        plt.axvline(x=event_day, color='red', linestyle='--', label='Major Market Event')\n",
        "    plt.xlabel('Days')\n",
        "    plt.ylabel('Price ($)')\n",
        "    plt.title('Stock Market Simulation - Market Event Impact')\n",
        "    plt.legend()\n",
        "    plt.show()\n",
        "\n",
        "#display matplot\n",
        "plot_prices_market(prices, sim.event_day)\n",
        "\n",
        "# create bar chart and display using matplot\n",
        "plt.figure(figsize=(10, 6))\n",
        "x = range(len(event_analysis))\n",
        "plt.bar(x, event_analysis['Price Before Market Event'], width=0.4, label='Price Before Event', align='center')\n",
        "plt.bar(x, event_analysis['Price After Event'], width=0.4, label='Price After Event', align='edge')\n",
        "plt.xlabel('Event Impact Index')\n",
        "plt.ylabel('Price ($)')\n",
        "plt.title('Price Before and After Market Event')\n",
        "plt.xticks(x, [f'Impact {event}' for event in event_analysis['Event Impact']])\n",
        "plt.legend()\n",
        "plt.show()\n",
        "\n",
        "\n",
        "\n",
        "## Since a loop is being used to run through 3 simulations, lists are needed to store the generated data\n",
        "\n",
        "#events list containing each event impact parameter to loop through\n",
        "events = [0.2, -0.3, -0.5]\n",
        "\n",
        "#list to store labels\n",
        "labels = []\n",
        "\n",
        "#list to store eah simulations data\n",
        "price_series = []\n",
        "\n",
        "#list to store pandas table data\n",
        "event_analysis = []\n",
        "\n",
        "\n",
        "\n",
        "# loop to loop through 3 event impact simulations based on parameters in events list\n",
        "for event in events:\n",
        "# Create the simulation\n",
        "  sim = StockMarketSimulation(start_price=100, days=365, volatility=0.03,\n",
        "                                drift=-0.001, event_day=150, event_impact=event, random_seed=1)\n",
        "\n",
        "# Run the simulation\n",
        "  prices = sim.run_simulation()\n",
        "\n",
        "# appends price data onto price_series list\n",
        "  price_series.append(prices)\n",
        "\n",
        "# appends labels into labels list based upon event impact parameter value\n",
        "  labels.append(f'Market Impact = {event}')\n",
        "\n",
        "#basic calculations for market event analysis\n",
        "  max_price = max(prices)\n",
        "  least_price = min(prices)\n",
        "  startprice = prices[0]\n",
        "  endprice = prices[-1]\n",
        "  std_dev = pd.Series(prices).std()\n",
        "  loss_or_profit = endprice - startprice\n",
        "  price_before_event = prices[149]\n",
        "  price_after_event = prices[150]\n",
        "\n",
        "# appending calcualted values into event_analysis list for each looped market impact value\n",
        "  event_analysis.append({\n",
        "      'Event Impact' : event,\n",
        "      'Max Price' : max_price,\n",
        "      'Least Price' : least_price,\n",
        "      'Start Price' : startprice,\n",
        "      'endprice' : endprice,\n",
        "      'Standard Deviation' : std_dev,\n",
        "      'Total Lost / Gained' : loss_or_profit,\n",
        "      'Price Before Market Event' : price_before_event,\n",
        "      'Price After Event' : price_after_event\n",
        "  })\n",
        "\n",
        "# Visualise the results\n",
        "\n",
        "#set panda table to not have line breaks\n",
        "pd.set_option('display.max_columns', None)\n",
        "pd.set_option('display.expand_frame_repr', False)\n",
        "\n",
        "\n",
        "\n",
        "event_analysis = pd.DataFrame(event_analysis)\n",
        "\n",
        "\n",
        "#print pandas table\n",
        "print(event_analysis)\n"
      ],
      "metadata": {
        "id": "6SXNet1SPbeT"
      },
      "execution_count": null,
      "outputs": []
    },
    {
      "cell_type": "markdown",
      "source": [
        "## Market Event Analysis"
      ],
      "metadata": {
        "id": "NoMOVTkmLjdI"
      }
    },
    {
      "cell_type": "markdown",
      "source": [
        "## (Optional) Develop and Test Trading Strategies\n",
        "\n",
        "In this section, explore basic trading strategies such as \"buy and hold\", \"moving average crossover\", or \"momentum-based\" strategies. Implement these strategies in your simulation to test their effectiveness over time. Discuss the observed trends and implications."
      ],
      "metadata": {
        "id": "UMbo3KNDPcBe"
      }
    },
    {
      "cell_type": "markdown",
      "source": [],
      "metadata": {
        "id": "60mr7arpLikI"
      }
    },
    {
      "cell_type": "markdown",
      "source": [
        "BUY AND HOLD"
      ],
      "metadata": {
        "id": "QLXUqMPck_zi"
      }
    },
    {
      "cell_type": "code",
      "source": [
        "# Buy and Hold\n",
        "from simulacra.stock_market_simulation import StockMarketSimulation\n",
        "import matplotlib.pyplot as plt\n",
        "\n",
        "def plot_prices(prices, event_day=None):\n",
        "\n",
        "    plt.figure(figsize=(15, 8))\n",
        "    plt.plot(prices, label='Stock Price')\n",
        "\n",
        "    plt.xlabel('Days')\n",
        "    plt.ylabel('Price ($)')\n",
        "    plt.title('Stock Market Simulation')\n",
        "    plt.legend()\n",
        "\n",
        "    max_price = max(prices)\n",
        "    min_price = min(prices)\n",
        "\n",
        "    max_day = prices.index(max_price)  # Day at which the max price occurs\n",
        "    min_day = prices.index(min_price)  # Day at which the min price occurs\n",
        "\n",
        "    # Plot the maximum and minimum prices\n",
        "    plt.plot(max_day, max_price, 'ro', label='Max Price')\n",
        "    plt.plot(min_day, min_price, 'go', label='Min Price')\n",
        "\n",
        "    # Annotate the maximum and minimum prices\n",
        "    plt.annotate(f'Max: {max_price:.2f}', xy=(max_day, max_price), xytext=(max_day, max_price + 5),\n",
        "                 arrowprops=dict(facecolor='red', shrink=0.05), fontsize=12, color='red', verticalalignment='bottom')\n",
        "    plt.annotate(f'Min: {min_price:.2f}', xy=(min_day, min_price), xytext=(min_day, min_price - 5),\n",
        "                 arrowprops=dict(facecolor='blue', shrink=0.05), fontsize=12, color='blue', verticalalignment='top')\n",
        "\n",
        "    plt.plot(moving_avg_50, label='50-Day Moving Average', linestyle='--')\n",
        "    plt.plot(moving_avg_200, label='200-Day Moving Average', linestyle='--')\n",
        "\n",
        "    plt.show()\n",
        "\n",
        "# Convert prices to a pandas Series\n",
        "prices_series = pd.Series(prices)\n",
        "\n",
        "\n",
        "# Calculate the 50-day and 200-day moving averages\n",
        "moving_avg_50 = prices_series.rolling(window=50).mean()\n",
        "moving_avg_200 = prices_series.rolling(window=200).mean()\n",
        "\n",
        "# Create the simulation\n",
        "sim = StockMarketSimulation(start_price=100, days=2000, volatility=0.02,\n",
        "                                drift=-0.000, event_day=0, event_impact=-0,random_seed=1)\n",
        "\n",
        "# Run the simulation\n",
        "prices = sim.run_simulation()\n",
        "\n",
        "# Visualise the results\n",
        "plot_prices(prices, sim.event_day)\n"
      ],
      "metadata": {
        "id": "WS5HweX2PoNi"
      },
      "execution_count": null,
      "outputs": []
    },
    {
      "cell_type": "code",
      "source": [
        "import pandas as pd\n",
        "import matplotlib.pyplot as plt\n",
        "from simulacra.stock_market_simulation import StockMarketSimulation\n",
        "\n",
        "# Create the simulation\n",
        "sim = StockMarketSimulation(start_price=100, days=365, volatility=0.03,\n",
        "                            drift=-0.001, event_day=0, event_impact=0)\n",
        "\n",
        "# Run the simulation\n",
        "prices = sim.run_simulation()\n",
        "\n",
        "# Convert prices to a pandas Series\n",
        "prices_series = pd.Series(prices)\n",
        "\n",
        "# Calculate the 50-day and 200-day moving averages\n",
        "moving_avg_50 = prices_series.rolling(window=50).mean()\n",
        "moving_avg_200 = prices_series.rolling(window=200).mean()\n",
        "\n",
        "# Plot the stock prices and moving averages\n",
        "plt.figure(figsize=(15, 8))\n",
        "plt.plot(prices_series, label='Stock Price')\n",
        "plt.plot(moving_avg_50, label='50-Day Moving Average', linestyle='--')\n",
        "plt.plot(moving_avg_200, label='200-Day Moving Average', linestyle='--')\n",
        "\n",
        "plt.xlabel('Days')\n",
        "plt.ylabel('Price ($)')\n",
        "plt.title('Stock Price with Moving Averages')\n",
        "plt.legend()\n",
        "plt.show()\n",
        "\n"
      ],
      "metadata": {
        "id": "V5wViWw9_VB6"
      },
      "execution_count": null,
      "outputs": []
    },
    {
      "cell_type": "markdown",
      "source": [
        "## Conclusions\n",
        "Summarise the insights gained from the simulations, implications for businesses, and potential strategies for managing pricing price flucations in volatile markets.\n",
        "\n",
        "## Challenges and Further Research\n",
        "Discuss any limitations encountered during the simulations and suggest areas for further exploration or improvement in future studies.\n",
        "\n",
        "## References and Additional Resources\n",
        "Any sources used for data or concepts."
      ],
      "metadata": {
        "id": "NBJcxhg1P4ui"
      }
    }
  ]
}